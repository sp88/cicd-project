{
  "cells": [
    {
      "cell_type": "markdown",
      "metadata": {
        "id": "87SWqlOT4H3y"
      },
      "source": [
        "# Dependancy Installs"
      ]
    },
    {
      "cell_type": "code",
      "execution_count": 29,
      "metadata": {
        "colab": {
          "base_uri": "https://localhost:8080/"
        },
        "id": "e4ss62CghruL",
        "outputId": "3096c91b-c9a5-4904-8f41-55f430af5a43"
      },
      "outputs": [
        {
          "output_type": "stream",
          "name": "stdout",
          "text": [
            "Python 3.7.12\n",
            "Requirement already satisfied: nltk in /usr/local/lib/python3.7/dist-packages (3.2.5)\n",
            "Requirement already satisfied: six in /usr/local/lib/python3.7/dist-packages (from nltk) (1.15.0)\n",
            "Requirement already satisfied: scikit-learn in /usr/local/lib/python3.7/dist-packages (1.0.2)\n",
            "Requirement already satisfied: threadpoolctl>=2.0.0 in /usr/local/lib/python3.7/dist-packages (from scikit-learn) (3.0.0)\n",
            "Requirement already satisfied: numpy>=1.14.6 in /usr/local/lib/python3.7/dist-packages (from scikit-learn) (1.19.5)\n",
            "Requirement already satisfied: joblib>=0.11 in /usr/local/lib/python3.7/dist-packages (from scikit-learn) (1.1.0)\n",
            "Requirement already satisfied: scipy>=1.1.0 in /usr/local/lib/python3.7/dist-packages (from scikit-learn) (1.4.1)\n",
            "Requirement already satisfied: transformers in /usr/local/lib/python3.7/dist-packages (4.15.0)\n",
            "Requirement already satisfied: huggingface-hub<1.0,>=0.1.0 in /usr/local/lib/python3.7/dist-packages (from transformers) (0.4.0)\n",
            "Requirement already satisfied: tqdm>=4.27 in /usr/local/lib/python3.7/dist-packages (from transformers) (4.62.3)\n",
            "Requirement already satisfied: packaging>=20.0 in /usr/local/lib/python3.7/dist-packages (from transformers) (21.3)\n",
            "Requirement already satisfied: regex!=2019.12.17 in /usr/local/lib/python3.7/dist-packages (from transformers) (2019.12.20)\n",
            "Requirement already satisfied: tokenizers<0.11,>=0.10.1 in /usr/local/lib/python3.7/dist-packages (from transformers) (0.10.3)\n",
            "Requirement already satisfied: pyyaml>=5.1 in /usr/local/lib/python3.7/dist-packages (from transformers) (6.0)\n",
            "Requirement already satisfied: requests in /usr/local/lib/python3.7/dist-packages (from transformers) (2.23.0)\n",
            "Requirement already satisfied: filelock in /usr/local/lib/python3.7/dist-packages (from transformers) (3.4.2)\n",
            "Requirement already satisfied: importlib-metadata in /usr/local/lib/python3.7/dist-packages (from transformers) (4.10.0)\n",
            "Requirement already satisfied: sacremoses in /usr/local/lib/python3.7/dist-packages (from transformers) (0.0.47)\n",
            "Requirement already satisfied: numpy>=1.17 in /usr/local/lib/python3.7/dist-packages (from transformers) (1.19.5)\n",
            "Requirement already satisfied: typing-extensions>=3.7.4.3 in /usr/local/lib/python3.7/dist-packages (from huggingface-hub<1.0,>=0.1.0->transformers) (3.10.0.2)\n",
            "Requirement already satisfied: pyparsing!=3.0.5,>=2.0.2 in /usr/local/lib/python3.7/dist-packages (from packaging>=20.0->transformers) (3.0.6)\n",
            "Requirement already satisfied: zipp>=0.5 in /usr/local/lib/python3.7/dist-packages (from importlib-metadata->transformers) (3.7.0)\n",
            "Requirement already satisfied: urllib3!=1.25.0,!=1.25.1,<1.26,>=1.21.1 in /usr/local/lib/python3.7/dist-packages (from requests->transformers) (1.24.3)\n",
            "Requirement already satisfied: certifi>=2017.4.17 in /usr/local/lib/python3.7/dist-packages (from requests->transformers) (2021.10.8)\n",
            "Requirement already satisfied: chardet<4,>=3.0.2 in /usr/local/lib/python3.7/dist-packages (from requests->transformers) (3.0.4)\n",
            "Requirement already satisfied: idna<3,>=2.5 in /usr/local/lib/python3.7/dist-packages (from requests->transformers) (2.10)\n",
            "Requirement already satisfied: click in /usr/local/lib/python3.7/dist-packages (from sacremoses->transformers) (7.1.2)\n",
            "Requirement already satisfied: joblib in /usr/local/lib/python3.7/dist-packages (from sacremoses->transformers) (1.1.0)\n",
            "Requirement already satisfied: six in /usr/local/lib/python3.7/dist-packages (from sacremoses->transformers) (1.15.0)\n",
            "Requirement already satisfied: tensorflow in /usr/local/lib/python3.7/dist-packages (2.7.0)\n",
            "Requirement already satisfied: six>=1.12.0 in /usr/local/lib/python3.7/dist-packages (from tensorflow) (1.15.0)\n",
            "Requirement already satisfied: termcolor>=1.1.0 in /usr/local/lib/python3.7/dist-packages (from tensorflow) (1.1.0)\n",
            "Requirement already satisfied: tensorflow-io-gcs-filesystem>=0.21.0 in /usr/local/lib/python3.7/dist-packages (from tensorflow) (0.23.1)\n",
            "Requirement already satisfied: keras-preprocessing>=1.1.1 in /usr/local/lib/python3.7/dist-packages (from tensorflow) (1.1.2)\n",
            "Requirement already satisfied: libclang>=9.0.1 in /usr/local/lib/python3.7/dist-packages (from tensorflow) (12.0.0)\n",
            "Requirement already satisfied: flatbuffers<3.0,>=1.12 in /usr/local/lib/python3.7/dist-packages (from tensorflow) (2.0)\n",
            "Requirement already satisfied: protobuf>=3.9.2 in /usr/local/lib/python3.7/dist-packages (from tensorflow) (3.17.3)\n",
            "Requirement already satisfied: astunparse>=1.6.0 in /usr/local/lib/python3.7/dist-packages (from tensorflow) (1.6.3)\n",
            "Requirement already satisfied: opt-einsum>=2.3.2 in /usr/local/lib/python3.7/dist-packages (from tensorflow) (3.3.0)\n",
            "Requirement already satisfied: keras<2.8,>=2.7.0rc0 in /usr/local/lib/python3.7/dist-packages (from tensorflow) (2.7.0)\n",
            "Requirement already satisfied: wheel<1.0,>=0.32.0 in /usr/local/lib/python3.7/dist-packages (from tensorflow) (0.37.1)\n",
            "Requirement already satisfied: tensorboard~=2.6 in /usr/local/lib/python3.7/dist-packages (from tensorflow) (2.7.0)\n",
            "Requirement already satisfied: typing-extensions>=3.6.6 in /usr/local/lib/python3.7/dist-packages (from tensorflow) (3.10.0.2)\n",
            "Requirement already satisfied: h5py>=2.9.0 in /usr/local/lib/python3.7/dist-packages (from tensorflow) (3.1.0)\n",
            "Requirement already satisfied: wrapt>=1.11.0 in /usr/local/lib/python3.7/dist-packages (from tensorflow) (1.13.3)\n",
            "Requirement already satisfied: tensorflow-estimator<2.8,~=2.7.0rc0 in /usr/local/lib/python3.7/dist-packages (from tensorflow) (2.7.0)\n",
            "Requirement already satisfied: gast<0.5.0,>=0.2.1 in /usr/local/lib/python3.7/dist-packages (from tensorflow) (0.4.0)\n",
            "Requirement already satisfied: numpy>=1.14.5 in /usr/local/lib/python3.7/dist-packages (from tensorflow) (1.19.5)\n",
            "Requirement already satisfied: google-pasta>=0.1.1 in /usr/local/lib/python3.7/dist-packages (from tensorflow) (0.2.0)\n",
            "Requirement already satisfied: absl-py>=0.4.0 in /usr/local/lib/python3.7/dist-packages (from tensorflow) (0.12.0)\n",
            "Requirement already satisfied: grpcio<2.0,>=1.24.3 in /usr/local/lib/python3.7/dist-packages (from tensorflow) (1.43.0)\n",
            "Requirement already satisfied: cached-property in /usr/local/lib/python3.7/dist-packages (from h5py>=2.9.0->tensorflow) (1.5.2)\n",
            "Requirement already satisfied: tensorboard-plugin-wit>=1.6.0 in /usr/local/lib/python3.7/dist-packages (from tensorboard~=2.6->tensorflow) (1.8.1)\n",
            "Requirement already satisfied: markdown>=2.6.8 in /usr/local/lib/python3.7/dist-packages (from tensorboard~=2.6->tensorflow) (3.3.6)\n",
            "Requirement already satisfied: tensorboard-data-server<0.7.0,>=0.6.0 in /usr/local/lib/python3.7/dist-packages (from tensorboard~=2.6->tensorflow) (0.6.1)\n",
            "Requirement already satisfied: setuptools>=41.0.0 in /usr/local/lib/python3.7/dist-packages (from tensorboard~=2.6->tensorflow) (57.4.0)\n",
            "Requirement already satisfied: requests<3,>=2.21.0 in /usr/local/lib/python3.7/dist-packages (from tensorboard~=2.6->tensorflow) (2.23.0)\n",
            "Requirement already satisfied: google-auth-oauthlib<0.5,>=0.4.1 in /usr/local/lib/python3.7/dist-packages (from tensorboard~=2.6->tensorflow) (0.4.6)\n",
            "Requirement already satisfied: werkzeug>=0.11.15 in /usr/local/lib/python3.7/dist-packages (from tensorboard~=2.6->tensorflow) (1.0.1)\n",
            "Requirement already satisfied: google-auth<3,>=1.6.3 in /usr/local/lib/python3.7/dist-packages (from tensorboard~=2.6->tensorflow) (1.35.0)\n",
            "Requirement already satisfied: cachetools<5.0,>=2.0.0 in /usr/local/lib/python3.7/dist-packages (from google-auth<3,>=1.6.3->tensorboard~=2.6->tensorflow) (4.2.4)\n",
            "Requirement already satisfied: pyasn1-modules>=0.2.1 in /usr/local/lib/python3.7/dist-packages (from google-auth<3,>=1.6.3->tensorboard~=2.6->tensorflow) (0.2.8)\n",
            "Requirement already satisfied: rsa<5,>=3.1.4 in /usr/local/lib/python3.7/dist-packages (from google-auth<3,>=1.6.3->tensorboard~=2.6->tensorflow) (4.8)\n",
            "Requirement already satisfied: requests-oauthlib>=0.7.0 in /usr/local/lib/python3.7/dist-packages (from google-auth-oauthlib<0.5,>=0.4.1->tensorboard~=2.6->tensorflow) (1.3.0)\n",
            "Requirement already satisfied: importlib-metadata>=4.4 in /usr/local/lib/python3.7/dist-packages (from markdown>=2.6.8->tensorboard~=2.6->tensorflow) (4.10.0)\n",
            "Requirement already satisfied: zipp>=0.5 in /usr/local/lib/python3.7/dist-packages (from importlib-metadata>=4.4->markdown>=2.6.8->tensorboard~=2.6->tensorflow) (3.7.0)\n",
            "Requirement already satisfied: pyasn1<0.5.0,>=0.4.6 in /usr/local/lib/python3.7/dist-packages (from pyasn1-modules>=0.2.1->google-auth<3,>=1.6.3->tensorboard~=2.6->tensorflow) (0.4.8)\n",
            "Requirement already satisfied: chardet<4,>=3.0.2 in /usr/local/lib/python3.7/dist-packages (from requests<3,>=2.21.0->tensorboard~=2.6->tensorflow) (3.0.4)\n",
            "Requirement already satisfied: urllib3!=1.25.0,!=1.25.1,<1.26,>=1.21.1 in /usr/local/lib/python3.7/dist-packages (from requests<3,>=2.21.0->tensorboard~=2.6->tensorflow) (1.24.3)\n",
            "Requirement already satisfied: certifi>=2017.4.17 in /usr/local/lib/python3.7/dist-packages (from requests<3,>=2.21.0->tensorboard~=2.6->tensorflow) (2021.10.8)\n",
            "Requirement already satisfied: idna<3,>=2.5 in /usr/local/lib/python3.7/dist-packages (from requests<3,>=2.21.0->tensorboard~=2.6->tensorflow) (2.10)\n",
            "Requirement already satisfied: oauthlib>=3.0.0 in /usr/local/lib/python3.7/dist-packages (from requests-oauthlib>=0.7.0->google-auth-oauthlib<0.5,>=0.4.1->tensorboard~=2.6->tensorflow) (3.1.1)\n",
            "Requirement already satisfied: pyyaml in /usr/local/lib/python3.7/dist-packages (6.0)\n",
            "Requirement already satisfied: h5py in /usr/local/lib/python3.7/dist-packages (3.1.0)\n",
            "Requirement already satisfied: cached-property in /usr/local/lib/python3.7/dist-packages (from h5py) (1.5.2)\n",
            "Requirement already satisfied: numpy>=1.14.5 in /usr/local/lib/python3.7/dist-packages (from h5py) (1.19.5)\n",
            "Requirement already satisfied: matplotlib in /usr/local/lib/python3.7/dist-packages (3.2.2)\n",
            "Requirement already satisfied: pyparsing!=2.0.4,!=2.1.2,!=2.1.6,>=2.0.1 in /usr/local/lib/python3.7/dist-packages (from matplotlib) (3.0.6)\n",
            "Requirement already satisfied: cycler>=0.10 in /usr/local/lib/python3.7/dist-packages (from matplotlib) (0.11.0)\n",
            "Requirement already satisfied: numpy>=1.11 in /usr/local/lib/python3.7/dist-packages (from matplotlib) (1.19.5)\n",
            "Requirement already satisfied: python-dateutil>=2.1 in /usr/local/lib/python3.7/dist-packages (from matplotlib) (2.8.2)\n",
            "Requirement already satisfied: kiwisolver>=1.0.1 in /usr/local/lib/python3.7/dist-packages (from matplotlib) (1.3.2)\n",
            "Requirement already satisfied: six>=1.5 in /usr/local/lib/python3.7/dist-packages (from python-dateutil>=2.1->matplotlib) (1.15.0)\n"
          ]
        }
      ],
      "source": [
        "!python -V\n",
        "!pip install nltk\n",
        "!pip install scikit-learn\n",
        "!pip install transformers\n",
        "!pip install tensorflow\n",
        "!pip install pyyaml h5py\n",
        "!pip install matplotlib"
      ]
    },
    {
      "cell_type": "markdown",
      "metadata": {
        "id": "9mmgSn2C4uOq"
      },
      "source": [
        "# Read Training Data"
      ]
    },
    {
      "cell_type": "code",
      "execution_count": null,
      "metadata": {
        "id": "8Zn43Y2640-_"
      },
      "outputs": [],
      "source": [
        "#from google.colab import drive\n",
        "#drive.mount(\"/content/drive/\")"
      ]
    },
    {
      "cell_type": "code",
      "execution_count": null,
      "metadata": {
        "id": "TmQGVXsihyE_"
      },
      "outputs": [],
      "source": [
        "#!cat '/content/drive/My Drive/MSC_Project/train.json'"
      ]
    },
    {
      "cell_type": "code",
      "execution_count": 30,
      "metadata": {
        "id": "Awewe8PBTy5H"
      },
      "outputs": [],
      "source": [
        "import json\n",
        "import os\n",
        "from sklearn.model_selection import train_test_split\n",
        "\n",
        "class RawData(object):\n",
        "    def __init__(self, id, intent, positions, slots, text):\n",
        "        self.id = id\n",
        "        self.intent = intent\n",
        "        self.positions = positions\n",
        "        self.slots = slots\n",
        "        self.text = text\n",
        "\n",
        "    def __repr__(self):\n",
        "        return str(json.dumps(self.__dict__, indent=2))\n",
        "\n",
        "\n",
        "\"\"\"\n",
        "reads json from data file\n",
        "returns a list containing DataInstance objects\n",
        "\"\"\"\n",
        "\n",
        "\n",
        "def read_train_json_file(filename):\n",
        "    if os.path.exists(filename):\n",
        "        intents = []\n",
        "\n",
        "        with open(filename, \"r\", encoding=\"utf-8\") as json_file:\n",
        "            data = json.load(json_file)\n",
        "\n",
        "            for k in data.keys():\n",
        "                intent = data[k][\"intent\"]\n",
        "                positions = data[k][\"positions\"]\n",
        "                slots = data[k][\"slots\"]\n",
        "                text = data[k][\"text\"]\n",
        "\n",
        "                temp = RawData(k, intent, positions, slots, text)\n",
        "                intents.append(temp)\n",
        "\n",
        "        return intents\n",
        "    else:\n",
        "        raise FileNotFoundError(\"No file found with that path!\")\n",
        "\n",
        "# read from json file\n",
        "all_data = read_train_json_file(\"train.json\")\n",
        "\n",
        "train_data ,test_data = train_test_split(all_data,test_size=0.2, shuffle=True)\n",
        "\n",
        "#train_data[:-2]"
      ]
    },
    {
      "cell_type": "code",
      "execution_count": 31,
      "metadata": {
        "colab": {
          "base_uri": "https://localhost:8080/"
        },
        "id": "1rIV5A6gbKxM",
        "outputId": "eafbebe5-7a19-4bfe-a75d-28be194dda88"
      },
      "outputs": [
        {
          "output_type": "stream",
          "name": "stdout",
          "text": [
            "120 30\n"
          ]
        }
      ],
      "source": [
        "print(len(train_data), len(test_data))"
      ]
    },
    {
      "cell_type": "markdown",
      "metadata": {
        "id": "nAhS8q4nK2jV"
      },
      "source": [
        "# Preparations for Model"
      ]
    },
    {
      "cell_type": "code",
      "execution_count": 32,
      "metadata": {
        "colab": {
          "base_uri": "https://localhost:8080/"
        },
        "id": "XGpzgN2Vn1zu",
        "outputId": "b5803c24-0e51-45b8-f197-d33d9c438fd1"
      },
      "outputs": [
        {
          "output_type": "stream",
          "name": "stdout",
          "text": [
            "[nltk_data] Downloading package stopwords to /root/nltk_data...\n",
            "[nltk_data]   Package stopwords is already up-to-date!\n",
            "[nltk_data] Downloading package punkt to /root/nltk_data...\n",
            "[nltk_data]   Package punkt is already up-to-date!\n"
          ]
        }
      ],
      "source": [
        "import re\n",
        "import nltk\n",
        "nltk.download('stopwords')\n",
        "nltk.download('punkt')\n",
        "from nltk.corpus import stopwords\n",
        "from nltk.tokenize import word_tokenize"
      ]
    },
    {
      "cell_type": "code",
      "execution_count": 33,
      "metadata": {
        "colab": {
          "base_uri": "https://localhost:8080/"
        },
        "id": "G11eoenSXveI",
        "outputId": "956156e0-fb10-48fb-bc26-dbefad88c075"
      },
      "outputs": [
        {
          "output_type": "stream",
          "name": "stdout",
          "text": [
            "build , test , deploy staging , deploy production using t2.micro EC2\n"
          ]
        }
      ],
      "source": [
        "\n",
        "def remove_emojis(text):\n",
        "    emoji_pattern = re.compile(\"[\"\n",
        "                               u\"\\U0001F600-\\U0001F64F\"  # emoticons\n",
        "                               u\"\\U0001F300-\\U0001F5FF\"  # symbols & pictographs\n",
        "                               u\"\\U0001F680-\\U0001F6FF\"  # transport & map symbols\n",
        "                               u\"\\U0001F1E0-\\U0001F1FF\"  # flags (iOS)\n",
        "                               u\"\\U00002500-\\U00002BEF\"  # chinese char\n",
        "                               u\"\\U00002702-\\U000027B0\"\n",
        "                               u\"\\U00002702-\\U000027B0\"\n",
        "                               u\"\\U000024C2-\\U0001F251\"\n",
        "                               u\"\\U0001f926-\\U0001f937\"\n",
        "                               u\"\\U00010000-\\U0010ffff\"\n",
        "                               u\"\\u2640-\\u2642\"\n",
        "                               u\"\\u2600-\\u2B55\"\n",
        "                               u\"\\u200d\"\n",
        "                               u\"\\u23cf\"\n",
        "                               u\"\\u23e9\"\n",
        "                               u\"\\u231a\"\n",
        "                               u\"\\ufe0f\"  # dingbats\n",
        "                               u\"\\u3030\"\n",
        "                               \"]+\", flags=re.UNICODE)\n",
        "    cleaned = emoji_pattern.sub(r'', text)\n",
        "    return re.sub(' +', ' ', cleaned.strip())\n",
        "\n",
        "def remove_stopwords(text):\n",
        "  stop_words = set(stopwords.words('english'))\n",
        "  word_tokens = word_tokenize(text)\n",
        "  filtered_sentence = [w for w in word_tokens if not w.lower() in stop_words]\n",
        "  filtered_sentence = []\n",
        "  for w in word_tokens:\n",
        "      if w not in stop_words:\n",
        "          filtered_sentence.append(w)\n",
        "  return \" \".join(filtered_sentence)\n",
        "\n",
        "def pre_process_text(text):\n",
        "  return remove_emojis(remove_stopwords(text))\n",
        "\n",
        "print(pre_process_text(\"  build, test, deploy to staging,    deploy to production 😀 using t2.micro EC2 \"))"
      ]
    },
    {
      "cell_type": "code",
      "execution_count": 68,
      "metadata": {
        "id": "7zDJb-nkTeWA"
      },
      "outputs": [],
      "source": [
        "# Tokenizer\n",
        "import tensorflow as tf\n",
        "from transformers import AutoTokenizer\n",
        "# from transformers import BertTokenizer\n",
        "\n",
        "model_name = \"bert-base-cased\"\n",
        "tokenizer = AutoTokenizer.from_pretrained(model_name)\n",
        "\n",
        "def encode_texts(tokenizer, texts):\n",
        "    return tokenizer(texts, padding=True, truncation=True, return_tensors=\"tf\") # is_split_into_words=True,\n",
        "\n",
        "texts = [d.text for d in train_data]\n",
        "encoded_texts = encode_texts(tokenizer, texts)\n",
        "encoded_texts.keys()\n",
        "\n",
        "\n",
        "test_texts = [d.text for d in test_data]\n",
        "test_encoded_texts = encode_texts(tokenizer, texts)"
      ]
    },
    {
      "cell_type": "code",
      "execution_count": 35,
      "metadata": {
        "colab": {
          "base_uri": "https://localhost:8080/"
        },
        "id": "FTBTgd4brN0C",
        "outputId": "00dae945-e2a9-4954-d03d-c36e6f835368"
      },
      "outputs": [
        {
          "output_type": "execute_result",
          "data": {
            "text/plain": [
              "Encoding(num_tokens=43, attributes=[ids, type_ids, tokens, offsets, attention_mask, special_tokens_mask, overflowing])"
            ]
          },
          "metadata": {},
          "execution_count": 35
        }
      ],
      "source": [
        "encoded_texts.get(0)"
      ]
    },
    {
      "cell_type": "code",
      "execution_count": 36,
      "metadata": {
        "colab": {
          "base_uri": "https://localhost:8080/"
        },
        "id": "4cKD3G2lrWs2",
        "outputId": "1ec28842-a7bf-4b07-9dbe-5fee4ab912e2"
      },
      "outputs": [
        {
          "output_type": "execute_result",
          "data": {
            "text/plain": [
              "['capture_cloud_provider',\n",
              " 'capture_keypair',\n",
              " 'declare_stages',\n",
              " 'capture_only_except_condition',\n",
              " 'declare_region',\n",
              " 'capture_instance_os',\n",
              " 'capture_instance_type',\n",
              " 'capture_framework_name',\n",
              " 'capture_app_name',\n",
              " 'capture_env_variables']"
            ]
          },
          "metadata": {},
          "execution_count": 36
        }
      ],
      "source": [
        "intents = [d.intent for d in train_data]\n",
        "intent_names = list(set(intents))\n",
        "intent_names"
      ]
    },
    {
      "cell_type": "code",
      "source": [
        "test_intents = [d.intent for d in test_data]\n",
        "test_intent_names = list(set(intents))\n",
        "test_intent_names"
      ],
      "metadata": {
        "colab": {
          "base_uri": "https://localhost:8080/"
        },
        "id": "hdCMo4gGh0fw",
        "outputId": "fc72e1d8-6d21-4418-db3f-664fb6610810"
      },
      "execution_count": 65,
      "outputs": [
        {
          "output_type": "execute_result",
          "data": {
            "text/plain": [
              "['capture_cloud_provider',\n",
              " 'capture_keypair',\n",
              " 'declare_stages',\n",
              " 'capture_only_except_condition',\n",
              " 'declare_region',\n",
              " 'capture_instance_os',\n",
              " 'capture_instance_type',\n",
              " 'capture_framework_name',\n",
              " 'capture_app_name',\n",
              " 'capture_env_variables']"
            ]
          },
          "metadata": {},
          "execution_count": 65
        }
      ]
    },
    {
      "cell_type": "code",
      "execution_count": 37,
      "metadata": {
        "colab": {
          "base_uri": "https://localhost:8080/"
        },
        "id": "0Sedw23XrcL5",
        "outputId": "14e2a51e-7ad6-4dad-8914-9db45c530c08"
      },
      "outputs": [
        {
          "output_type": "execute_result",
          "data": {
            "text/plain": [
              "{'capture_app_name': 8,\n",
              " 'capture_cloud_provider': 0,\n",
              " 'capture_env_variables': 9,\n",
              " 'capture_framework_name': 7,\n",
              " 'capture_instance_os': 5,\n",
              " 'capture_instance_type': 6,\n",
              " 'capture_keypair': 1,\n",
              " 'capture_only_except_condition': 3,\n",
              " 'declare_region': 4,\n",
              " 'declare_stages': 2}"
            ]
          },
          "metadata": {},
          "execution_count": 37
        }
      ],
      "source": [
        "intent_map = dict() # index -> intent\n",
        "for idx, ui in enumerate(intent_names):\n",
        "    intent_map[ui] = idx\n",
        "intent_map"
      ]
    },
    {
      "cell_type": "code",
      "execution_count": 38,
      "metadata": {
        "id": "OY34iOYqrirW"
      },
      "outputs": [],
      "source": [
        "# map to train_data values\n",
        "def encode_intents(intents, intent_map):\n",
        "    encoded = []\n",
        "    for i in intents:\n",
        "        encoded.append(intent_map[i])\n",
        "    # convert to tf tensor\n",
        "    return tf.convert_to_tensor(encoded, dtype=\"int32\")\n",
        "\n",
        "encoded_intents = encode_intents(intents, intent_map)"
      ]
    },
    {
      "cell_type": "code",
      "source": [
        "test_encoded_intents = encode_intents(test_intents, intent_map)"
      ],
      "metadata": {
        "id": "llg8q2Xfh85R"
      },
      "execution_count": 66,
      "outputs": []
    },
    {
      "cell_type": "code",
      "execution_count": 39,
      "metadata": {
        "colab": {
          "base_uri": "https://localhost:8080/"
        },
        "id": "zEgKrc-5rknI",
        "outputId": "f3ad5281-d4d1-4df9-e274-87f6894f99da"
      },
      "outputs": [
        {
          "output_type": "execute_result",
          "data": {
            "text/plain": [
              "['<PAD>',\n",
              " 'instance_os',\n",
              " 'framework_name',\n",
              " 'only_condition',\n",
              " 'region',\n",
              " 'env_variables',\n",
              " 'keypair',\n",
              " 'instance_type',\n",
              " 'except_condition',\n",
              " 'app_name',\n",
              " 'names_of_stages',\n",
              " 'cloud_provider']"
            ]
          },
          "metadata": {},
          "execution_count": 39
        }
      ],
      "source": [
        "# encode slots\n",
        "slot_names = set()\n",
        "for td in train_data:\n",
        "    slots = td.slots\n",
        "    for slot in slots:\n",
        "        slot_names.add(slot)\n",
        "slot_names = list(slot_names)\n",
        "slot_names.insert(0, \"<PAD>\")\n",
        "slot_names"
      ]
    },
    {
      "cell_type": "code",
      "execution_count": 40,
      "metadata": {
        "colab": {
          "base_uri": "https://localhost:8080/"
        },
        "id": "UksxHgXerqBW",
        "outputId": "bda42d0b-89ec-4c2b-dd5c-5d93eb398fff"
      },
      "outputs": [
        {
          "output_type": "execute_result",
          "data": {
            "text/plain": [
              "{'<PAD>': 0,\n",
              " 'app_name': 9,\n",
              " 'cloud_provider': 11,\n",
              " 'env_variables': 5,\n",
              " 'except_condition': 8,\n",
              " 'framework_name': 2,\n",
              " 'instance_os': 1,\n",
              " 'instance_type': 7,\n",
              " 'keypair': 6,\n",
              " 'names_of_stages': 10,\n",
              " 'only_condition': 3,\n",
              " 'region': 4}"
            ]
          },
          "metadata": {},
          "execution_count": 40
        }
      ],
      "source": [
        "slot_map = dict() # slot -> index\n",
        "for idx, us in enumerate(slot_names):\n",
        "    slot_map[us] = idx\n",
        "slot_map"
      ]
    },
    {
      "cell_type": "code",
      "execution_count": 41,
      "metadata": {
        "colab": {
          "base_uri": "https://localhost:8080/"
        },
        "id": "u9VkbkEEruXr",
        "outputId": "afb10874-9f9d-4149-b50f-3b3732271863"
      },
      "outputs": [
        {
          "output_type": "stream",
          "name": "stdout",
          "text": [
            "application is Python-Load-Manager\n",
            "{'app_name': 'Python-Load-Manager'}\n",
            "slot_name for nodejs-app-test1 is :  None\n"
          ]
        }
      ],
      "source": [
        "# gets slot name from its values\n",
        "def get_slot_from_word(word, slot_dict):\n",
        "    for slot_label,value in slot_dict.items():\n",
        "        if word in value.split():\n",
        "            return slot_label\n",
        "    return None\n",
        "\n",
        "print(train_data[0].text)\n",
        "print(train_data[0].slots)\n",
        "print(\"slot_name for nodejs-app-test1 is : \", get_slot_from_word(\"nodejs-app-test1\", train_data[0].slots))"
      ]
    },
    {
      "cell_type": "code",
      "execution_count": 42,
      "metadata": {
        "id": "sEGzrfLrr3fk"
      },
      "outputs": [],
      "source": [
        "import numpy as np\n",
        "\n",
        "# find the max encoded test length\n",
        "# tokenizer pads all texts to same length anyway so\n",
        "# just get the length of the first one's input_ids\n",
        "max_len = len(encoded_texts[\"input_ids\"][0])\n",
        "\n",
        "def encode_slots(all_slots, all_texts, \n",
        "                 toknizer, slot_map, max_len=max_len):\n",
        "    encoded_slots = np.zeros(shape=(len(all_texts), max_len), dtype=np.int32)\n",
        "    \n",
        "    for idx, text in enumerate(all_texts):\n",
        "        enc = [] # for this idx, to be added at the end to encoded_slots\n",
        "        \n",
        "        # slot names for this idx\n",
        "        slot_names = all_slots[idx]\n",
        "        \n",
        "        # raw word tokens\n",
        "        # not using bert for this block because bert uses\n",
        "        # a wordpiece tokenizer which will make \n",
        "        # the slot label to word mapping\n",
        "        # difficult\n",
        "        raw_tokens = text.split()\n",
        "\n",
        "        # words or slot_values associated with a certain\n",
        "        # slot_name are contained in the values of the\n",
        "        # dict slots_names\n",
        "        # now this becomes a two way lookup\n",
        "        # first we check if a word belongs to any\n",
        "        # slot label or not and then we add the value from\n",
        "        # slot map to encoded for that word\n",
        "        for rt in raw_tokens:\n",
        "            # use bert tokenizer\n",
        "            # to get wordpiece tokens\n",
        "            bert_tokens = tokenizer.tokenize(rt)\n",
        "            \n",
        "            # find the slot name for a token\n",
        "            rt_slot_name = get_slot_from_word(rt, slot_names)\n",
        "            if rt_slot_name is not None:\n",
        "                # fill with the slot_map value for all ber tokens for rt\n",
        "                enc.append(slot_map[rt_slot_name])\n",
        "                enc.extend([slot_map[rt_slot_name]] * (len(bert_tokens) - 1))\n",
        "\n",
        "            else:\n",
        "                # rt is not associated with any slot name\n",
        "                enc.append(0)\n",
        "\n",
        "        \n",
        "        # now add to encoded_slots\n",
        "        # ignore the first and the last elements\n",
        "        # in encoded text as they're special chars\n",
        "        encoded_slots[idx, 1:len(enc)+1] = enc\n",
        "    \n",
        "    return encoded_slots\n",
        "    "
      ]
    },
    {
      "cell_type": "code",
      "execution_count": 43,
      "metadata": {
        "colab": {
          "base_uri": "https://localhost:8080/"
        },
        "id": "kl_HuHhHr87p",
        "outputId": "002e3a38-49db-45cb-c0b2-6f3f33c4b958"
      },
      "outputs": [
        {
          "output_type": "execute_result",
          "data": {
            "text/plain": [
              "array([0, 0, 0, 9, 9, 9, 9, 9, 9, 0, 0, 0, 0, 0, 0, 0, 0, 0, 0, 0, 0, 0,\n",
              "       0, 0, 0, 0, 0, 0, 0, 0, 0, 0, 0, 0, 0, 0, 0, 0, 0, 0, 0, 0, 0],\n",
              "      dtype=int32)"
            ]
          },
          "metadata": {},
          "execution_count": 43
        }
      ],
      "source": [
        "all_slots = [td.slots for td in train_data]\n",
        "all_texts = [td.text for td in train_data]\n",
        "encoded_slots = encode_slots(all_slots, all_texts, tokenizer, slot_map)\n",
        "\n",
        "encoded_slots[0]"
      ]
    },
    {
      "cell_type": "code",
      "source": [
        "test_all_slots = [td.slots for td in test_data]\n",
        "test_all_texts = [td.text for td in test_data]\n",
        "test_encoded_slots = encode_slots(test_all_slots, test_all_texts, tokenizer, slot_map)\n",
        "\n",
        "test_encoded_slots[0]"
      ],
      "metadata": {
        "id": "CDGuyR2wiMQW"
      },
      "execution_count": null,
      "outputs": []
    },
    {
      "cell_type": "markdown",
      "metadata": {
        "id": "QRgpmO90sIgh"
      },
      "source": [
        "# Fit Model"
      ]
    },
    {
      "cell_type": "code",
      "execution_count": 44,
      "metadata": {
        "id": "u9a1kJ6osEnd"
      },
      "outputs": [],
      "source": [
        "from transformers import TFBertModel\n",
        "from tensorflow.keras.layers import Dropout, Dense, GlobalAveragePooling1D\n",
        "from tensorflow.keras.optimizers import Adam\n",
        "from tensorflow.keras.losses import SparseCategoricalCrossentropy\n",
        "from tensorflow.keras.metrics import SparseCategoricalAccuracy\n",
        "from tensorflow.keras import activations\n",
        "\n",
        "class JointIntentAndSlotFillingModel(tf.keras.Model):\n",
        "\n",
        "    def __init__(self, intent_num_labels=None, slot_num_labels=None,\n",
        "                 model_name=model_name, dropout_prob=0.1):\n",
        "        super().__init__(name=\"joint_intent_slot\")\n",
        "        self.bert = TFBertModel.from_pretrained(model_name)\n",
        "        self.dropout = Dropout(dropout_prob)\n",
        "        self.intent_classifier = Dense(intent_num_labels,\n",
        "                                       name=\"intent_classifier\",\n",
        "                                       activation=activations.softmax)\n",
        "        self.slot_classifier = Dense(slot_num_labels,\n",
        "                                     name=\"slot_classifier\",\n",
        "                                     activation=activations.softmax)\n",
        "\n",
        "    def call(self, inputs, **kwargs):\n",
        "        # two outputs from BERT\n",
        "        trained_bert = self.bert(inputs, **kwargs)\n",
        "        pooled_output = trained_bert.pooler_output\n",
        "        sequence_output = trained_bert.last_hidden_state\n",
        "        \n",
        "        # sequence_output will be used for slot_filling / classification\n",
        "        sequence_output = self.dropout(sequence_output,\n",
        "                                       training=kwargs.get(\"training\", False))\n",
        "        slot_logits = self.slot_classifier(sequence_output)\n",
        "\n",
        "        # pooled_output for intent classification\n",
        "        pooled_output = self.dropout(pooled_output,\n",
        "                                     training=kwargs.get(\"training\", False))\n",
        "        intent_logits = self.intent_classifier(pooled_output)\n",
        "\n",
        "        return slot_logits, intent_logits"
      ]
    },
    {
      "cell_type": "code",
      "execution_count": 45,
      "metadata": {
        "colab": {
          "base_uri": "https://localhost:8080/"
        },
        "id": "8Drilc53sV1Z",
        "outputId": "d62f09e4-1953-4d41-c199-2a91876511c8"
      },
      "outputs": [
        {
          "output_type": "stream",
          "name": "stderr",
          "text": [
            "Some layers from the model checkpoint at bert-base-cased were not used when initializing TFBertModel: ['mlm___cls', 'nsp___cls']\n",
            "- This IS expected if you are initializing TFBertModel from the checkpoint of a model trained on another task or with another architecture (e.g. initializing a BertForSequenceClassification model from a BertForPreTraining model).\n",
            "- This IS NOT expected if you are initializing TFBertModel from the checkpoint of a model that you expect to be exactly identical (initializing a BertForSequenceClassification model from a BertForSequenceClassification model).\n",
            "All the layers of TFBertModel were initialized from the model checkpoint at bert-base-cased.\n",
            "If your task is similar to the task the model of the checkpoint was trained on, you can already use TFBertModel for predictions without further training.\n"
          ]
        }
      ],
      "source": [
        "joint_model = JointIntentAndSlotFillingModel(\n",
        "    intent_num_labels=len(intent_map), slot_num_labels=len(slot_map))\n",
        "\n",
        "opt = Adam(learning_rate=3e-5, epsilon=1e-08)\n",
        "\n",
        "# two outputs, one for slots, another for intents\n",
        "# we have to fine tune for both\n",
        "losses = [SparseCategoricalCrossentropy(),\n",
        "          SparseCategoricalCrossentropy()]\n",
        "\n",
        "metrics = [SparseCategoricalAccuracy(\"accuracy\")]\n",
        "# compile model\n",
        "joint_model.compile(optimizer=opt, loss=losses, metrics=metrics)"
      ]
    },
    {
      "cell_type": "code",
      "execution_count": 46,
      "metadata": {
        "colab": {
          "base_uri": "https://localhost:8080/"
        },
        "id": "zC3xiD04PCbp",
        "outputId": "795337f0-bfaf-42e0-a532-df7bd95a7cea"
      },
      "outputs": [
        {
          "output_type": "execute_result",
          "data": {
            "text/plain": [
              "TensorShape([120, 43])"
            ]
          },
          "metadata": {},
          "execution_count": 46
        }
      ],
      "source": [
        "encoded_texts[\"input_ids\"][None: ].shape"
      ]
    },
    {
      "cell_type": "code",
      "execution_count": 47,
      "metadata": {
        "id": "hXCq3ZR7H-sj"
      },
      "outputs": [],
      "source": [
        "# from sklearn.model_selection import train_test_split\n",
        "# import numpy as np\n",
        "# from pprint import pprint\n",
        "\n",
        "# x = {\"input_ids\": encoded_texts[\"input_ids\"], \"token_type_ids\": encoded_texts[\"token_type_ids\"],  \"attention_mask\": encoded_texts[\"attention_mask\"]}\n",
        "\n",
        "# print(tokenizer(['I want to deploy my-service', 'use build,test, prod as stages'], padding=True, truncation=True, return_tensors=\"tf\"))\n",
        "# pprint(encoded_texts[\"input_ids\"])\n",
        "# print(encoded_intents.shape)\n",
        "# for i,j in zip(encoded_slots,encoded_intents):\n",
        "#   print(i,j)\n",
        "\n",
        "# print(len(np.asarray(x)))\n",
        "\n",
        "# create x\n",
        "# x = [(input_ids, token_type_ids, att_masks) for input_ids, token_type_ids, att_masks in zip(encoded_texts[\"input_ids\"], encoded_texts[\"token_type_ids\"], encoded_texts[\"attention_mask\"])]\n",
        "\n",
        "# print(x[0])\n",
        "# x_train, x_test, y_train, y_test = train_test_split(\n",
        "#                                             encoded_texts[\"input_ids\"][None: ], \n",
        "#                                             encoded_slots , \n",
        "#                                             test_size = 0.2, \n",
        "#                                             random_state = 1\n",
        "#                                     )\n",
        "\n",
        "# print(x_test)\n",
        "# print(len(x_train), len(x_test), len(y_train), len(y_test))"
      ]
    },
    {
      "cell_type": "code",
      "execution_count": 48,
      "metadata": {
        "colab": {
          "base_uri": "https://localhost:8080/"
        },
        "id": "z8BSkyW1sm2d",
        "outputId": "da790f53-5bb3-435a-ab8c-6bbb607a5f48"
      },
      "outputs": [
        {
          "output_type": "stream",
          "name": "stdout",
          "text": [
            "Epoch 1/15\n",
            "30/30 [==============================] - 92s 3s/step - loss: 3.3834 - output_1_loss: 0.8505 - output_2_loss: 2.5329 - output_1_accuracy: 0.8060 - output_2_accuracy: 0.1583\n",
            "Epoch 2/15\n",
            "30/30 [==============================] - 74s 2s/step - loss: 1.9391 - output_1_loss: 0.3116 - output_2_loss: 1.6275 - output_1_accuracy: 0.9382 - output_2_accuracy: 0.4500\n",
            "Epoch 3/15\n",
            "30/30 [==============================] - 72s 2s/step - loss: 1.0667 - output_1_loss: 0.2272 - output_2_loss: 0.8395 - output_1_accuracy: 0.9463 - output_2_accuracy: 0.7667\n",
            "Epoch 4/15\n",
            "30/30 [==============================] - 66s 2s/step - loss: 0.4550 - output_1_loss: 0.1688 - output_2_loss: 0.2862 - output_1_accuracy: 0.9612 - output_2_accuracy: 0.9500\n",
            "Epoch 5/15\n",
            "30/30 [==============================] - 73s 2s/step - loss: 0.2272 - output_1_loss: 0.1178 - output_2_loss: 0.1093 - output_1_accuracy: 0.9690 - output_2_accuracy: 0.9917\n",
            "Epoch 6/15\n",
            "30/30 [==============================] - 73s 2s/step - loss: 0.1278 - output_1_loss: 0.0863 - output_2_loss: 0.0415 - output_1_accuracy: 0.9758 - output_2_accuracy: 1.0000\n",
            "Epoch 7/15\n",
            "30/30 [==============================] - 73s 2s/step - loss: 0.0873 - output_1_loss: 0.0636 - output_2_loss: 0.0236 - output_1_accuracy: 0.9818 - output_2_accuracy: 1.0000\n",
            "Epoch 8/15\n",
            "30/30 [==============================] - 73s 2s/step - loss: 0.0612 - output_1_loss: 0.0443 - output_2_loss: 0.0169 - output_1_accuracy: 0.9893 - output_2_accuracy: 1.0000\n",
            "Epoch 9/15\n",
            "30/30 [==============================] - 67s 2s/step - loss: 0.0499 - output_1_loss: 0.0343 - output_2_loss: 0.0156 - output_1_accuracy: 0.9905 - output_2_accuracy: 1.0000\n",
            "Epoch 10/15\n",
            "30/30 [==============================] - 64s 2s/step - loss: 0.0401 - output_1_loss: 0.0274 - output_2_loss: 0.0126 - output_1_accuracy: 0.9926 - output_2_accuracy: 1.0000\n",
            "Epoch 11/15\n",
            "30/30 [==============================] - 63s 2s/step - loss: 0.0340 - output_1_loss: 0.0243 - output_2_loss: 0.0097 - output_1_accuracy: 0.9942 - output_2_accuracy: 1.0000\n",
            "Epoch 12/15\n",
            "30/30 [==============================] - 63s 2s/step - loss: 0.0292 - output_1_loss: 0.0196 - output_2_loss: 0.0096 - output_1_accuracy: 0.9946 - output_2_accuracy: 1.0000\n",
            "Epoch 13/15\n",
            "30/30 [==============================] - 64s 2s/step - loss: 0.0275 - output_1_loss: 0.0185 - output_2_loss: 0.0090 - output_1_accuracy: 0.9959 - output_2_accuracy: 1.0000\n",
            "Epoch 14/15\n",
            "30/30 [==============================] - 64s 2s/step - loss: 0.0198 - output_1_loss: 0.0130 - output_2_loss: 0.0068 - output_1_accuracy: 0.9971 - output_2_accuracy: 1.0000\n",
            "Epoch 15/15\n",
            "30/30 [==============================] - 63s 2s/step - loss: 0.0188 - output_1_loss: 0.0128 - output_2_loss: 0.0060 - output_1_accuracy: 0.9973 - output_2_accuracy: 1.0000\n"
          ]
        }
      ],
      "source": [
        "x = {\"input_ids\": encoded_texts[\"input_ids\"], \"token_type_ids\": encoded_texts[\"token_type_ids\"],  \"attention_mask\": encoded_texts[\"attention_mask\"]}\n",
        "\n",
        "history = joint_model.fit(\n",
        "    x, (encoded_slots, encoded_intents), epochs=15, batch_size=4, shuffle=True) # , validation_split = 0.2"
      ]
    },
    {
      "cell_type": "code",
      "execution_count": 49,
      "metadata": {
        "colab": {
          "base_uri": "https://localhost:8080/"
        },
        "id": "cqNVs0ORwWbW",
        "outputId": "466b784c-2f13-46ef-87a3-ecf0c62c1a8f"
      },
      "outputs": [
        {
          "output_type": "execute_result",
          "data": {
            "text/plain": [
              "dict_keys(['loss', 'output_1_loss', 'output_2_loss', 'output_1_accuracy', 'output_2_accuracy'])"
            ]
          },
          "metadata": {},
          "execution_count": 49
        }
      ],
      "source": [
        "history.history.keys()"
      ]
    },
    {
      "cell_type": "code",
      "execution_count": 50,
      "metadata": {
        "colab": {
          "base_uri": "https://localhost:8080/",
          "height": 282
        },
        "id": "VhE4ubgIsyxs",
        "outputId": "ba0cae6c-f9fc-4a19-95a9-cea43de043fc"
      },
      "outputs": [
        {
          "output_type": "execute_result",
          "data": {
            "text/plain": [
              "<matplotlib.legend.Legend at 0x7f47e162ca90>"
            ]
          },
          "metadata": {},
          "execution_count": 50
        },
        {
          "output_type": "display_data",
          "data": {
            "image/png": "[encoded data removed]",
            "text/plain": [
              "<Figure size 432x288 with 1 Axes>"
            ]
          },
          "metadata": {
            "needs_background": "light"
          }
        }
      ],
      "source": [
        "history.history\n",
        "\n",
        "import matplotlib.pyplot as plt\n",
        "# plot the accuracy of the model as it trains\n",
        "plt.plot(history.history['output_1_accuracy'])\n",
        "plt.plot(history.history['output_2_accuracy'])\n",
        "plt.legend(['output_1_accuracy', 'output_2_accuracy'])\n",
        "\n",
        "# plt.plot(history.history['val_output_1_accuracy'])\n",
        "# plt.plot(history.history['val_output_2_accuracy'])\n",
        "# plt.legend(['output_1_accuracy', 'output_2_accuracy', 'validation_output_1_accuracy', 'validation_output_2_accuracy'])"
      ]
    },
    {
      "cell_type": "code",
      "execution_count": 51,
      "metadata": {
        "id": "kWbQxZ4lPMqq"
      },
      "outputs": [],
      "source": [
        "# history.history"
      ]
    },
    {
      "cell_type": "code",
      "execution_count": 52,
      "metadata": {
        "colab": {
          "base_uri": "https://localhost:8080/",
          "height": 236
        },
        "id": "hUF575bzhWmt",
        "outputId": "a7c5e968-3973-498a-935d-94bafa8649bd"
      },
      "outputs": [
        {
          "output_type": "error",
          "ename": "KeyError",
          "evalue": "ignored",
          "traceback": [
            "\u001b[0;31m---------------------------------------------------------------------------\u001b[0m",
            "\u001b[0;31mKeyError\u001b[0m                                  Traceback (most recent call last)",
            "\u001b[0;32m<ipython-input-52-d0ad3627695c>\u001b[0m in \u001b[0;36m<module>\u001b[0;34m()\u001b[0m\n\u001b[1;32m      3\u001b[0m \u001b[0;32mimport\u001b[0m \u001b[0mmatplotlib\u001b[0m\u001b[0;34m.\u001b[0m\u001b[0mpyplot\u001b[0m \u001b[0;32mas\u001b[0m \u001b[0mplt\u001b[0m\u001b[0;34m\u001b[0m\u001b[0;34m\u001b[0m\u001b[0m\n\u001b[1;32m      4\u001b[0m \u001b[0;31m# plot the accuracy of the model as it trains\u001b[0m\u001b[0;34m\u001b[0m\u001b[0;34m\u001b[0m\u001b[0;34m\u001b[0m\u001b[0m\n\u001b[0;32m----> 5\u001b[0;31m \u001b[0mplt\u001b[0m\u001b[0;34m.\u001b[0m\u001b[0mplot\u001b[0m\u001b[0;34m(\u001b[0m\u001b[0mhistory\u001b[0m\u001b[0;34m.\u001b[0m\u001b[0mhistory\u001b[0m\u001b[0;34m[\u001b[0m\u001b[0;34m'val_output_1_accuracy'\u001b[0m\u001b[0;34m]\u001b[0m\u001b[0;34m)\u001b[0m\u001b[0;34m\u001b[0m\u001b[0;34m\u001b[0m\u001b[0m\n\u001b[0m\u001b[1;32m      6\u001b[0m \u001b[0mplt\u001b[0m\u001b[0;34m.\u001b[0m\u001b[0mplot\u001b[0m\u001b[0;34m(\u001b[0m\u001b[0mhistory\u001b[0m\u001b[0;34m.\u001b[0m\u001b[0mhistory\u001b[0m\u001b[0;34m[\u001b[0m\u001b[0;34m'val_output_2_accuracy'\u001b[0m\u001b[0;34m]\u001b[0m\u001b[0;34m)\u001b[0m\u001b[0;34m\u001b[0m\u001b[0;34m\u001b[0m\u001b[0m\n\u001b[1;32m      7\u001b[0m \u001b[0;31m# plt.plot(history.history['output_1_loss'])\u001b[0m\u001b[0;34m\u001b[0m\u001b[0;34m\u001b[0m\u001b[0;34m\u001b[0m\u001b[0m\n",
            "\u001b[0;31mKeyError\u001b[0m: 'val_output_1_accuracy'"
          ]
        }
      ],
      "source": [
        "history.history\n",
        "\n",
        "import matplotlib.pyplot as plt\n",
        "# plot the accuracy of the model as it trains\n",
        "plt.plot(history.history['val_output_1_accuracy'])\n",
        "plt.plot(history.history['val_output_2_accuracy'])\n",
        "# plt.plot(history.history['output_1_loss'])\n",
        "# plt.plot(history.history['output_2_loss'])\n",
        "plt.legend(['validation_output_1_accuracy', 'validation_output_2_accuracy'])"
      ]
    },
    {
      "cell_type": "code",
      "execution_count": 53,
      "metadata": {
        "colab": {
          "base_uri": "https://localhost:8080/",
          "height": 282
        },
        "id": "aMJqdjssmuao",
        "outputId": "38a934c8-97d1-40df-b930-c94a692594f4"
      },
      "outputs": [
        {
          "output_type": "execute_result",
          "data": {
            "text/plain": [
              "<matplotlib.legend.Legend at 0x7f4968ab1c90>"
            ]
          },
          "metadata": {},
          "execution_count": 53
        },
        {
          "output_type": "display_data",
          "data": {
            "image/png": "[encoded data removed]",
            "text/plain": [
              "<Figure size 432x288 with 1 Axes>"
            ]
          },
          "metadata": {
            "needs_background": "light"
          }
        }
      ],
      "source": [
        "history.history\n",
        "\n",
        "import matplotlib.pyplot as plt\n",
        "# plot the accuracy of the model as it trains\n",
        "plt.plot(history.history['output_1_loss'])\n",
        "plt.plot(history.history['output_2_loss'])\n",
        "# plt.plot(history.history['output_1_loss'])\n",
        "# plt.plot(history.history['output_2_loss'])\n",
        "plt.legend(['output_1_loss', 'output_2_loss'])"
      ]
    },
    {
      "cell_type": "code",
      "execution_count": null,
      "metadata": {
        "id": "G4G7FVCGm8gA"
      },
      "outputs": [],
      "source": [
        "history.history\n",
        "\n",
        "import matplotlib.pyplot as plt\n",
        "# plot the accuracy of the model as it trains\n",
        "plt.plot(history.history['val_output_1_loss'])\n",
        "plt.plot(history.history['val_output_2_loss'])\n",
        "# plt.plot(history.history['output_1_loss'])\n",
        "# plt.plot(history.history['output_2_loss'])\n",
        "plt.legend(['val_output_1_loss', 'val_output_2_loss'])"
      ]
    },
    {
      "cell_type": "code",
      "execution_count": null,
      "metadata": {
        "id": "S1IFsw4M0SJC"
      },
      "outputs": [],
      "source": [
        "# f = joint_model.evaluate( x, (encoded_slots, encoded_intents) )\n",
        "# print(f)"
      ]
    },
    {
      "cell_type": "code",
      "execution_count": null,
      "metadata": {
        "id": "lVXWfSMgnR0J"
      },
      "outputs": [],
      "source": [
        "# print(eval)\n",
        "\n",
        "# import matplotlib.pyplot as plt\n",
        "# plot the accuracy of the model as it trains\n",
        "# plt.plot(history.history['output_1_accuracy'])\n",
        "# plt.plot(history.history['output_2_accuracy'])\n",
        "# plt.legend(['output_1_accuracy', 'output_2_accuracy'])"
      ]
    },
    {
      "cell_type": "code",
      "execution_count": null,
      "metadata": {
        "id": "GhNiSuQOtEMN"
      },
      "outputs": [],
      "source": [
        "# Save the entire model as a SavedModel.\n",
        "#!mkdir -p saved_model\n",
        "#joint_model.save('saved_model/my_model')\n",
        "# intent_map"
      ]
    },
    {
      "cell_type": "code",
      "execution_count": 54,
      "metadata": {
        "colab": {
          "base_uri": "https://localhost:8080/"
        },
        "id": "1NYrOEyAtlZe",
        "outputId": "366658d5-6bd0-4127-9532-64a5798efd78"
      },
      "outputs": [
        {
          "output_type": "stream",
          "name": "stdout",
          "text": [
            "Model: \"joint_intent_slot\"\n",
            "_________________________________________________________________\n",
            " Layer (type)                Output Shape              Param #   \n",
            "=================================================================\n",
            " tf_bert_model_1 (TFBertMode  multiple                 108310272 \n",
            " l)                                                              \n",
            "                                                                 \n",
            " dropout_75 (Dropout)        multiple                  0         \n",
            "                                                                 \n",
            " intent_classifier (Dense)   multiple                  7690      \n",
            "                                                                 \n",
            " slot_classifier (Dense)     multiple                  9228      \n",
            "                                                                 \n",
            "=================================================================\n",
            "Total params: 108,327,190\n",
            "Trainable params: 108,327,190\n",
            "Non-trainable params: 0\n",
            "_________________________________________________________________\n"
          ]
        }
      ],
      "source": [
        "joint_model.summary()\n",
        "\n",
        "# new_model = tf.keras.models.load_model('saved_model/my_model')"
      ]
    },
    {
      "cell_type": "code",
      "execution_count": 56,
      "metadata": {
        "id": "q12D1-lgt4zb"
      },
      "outputs": [],
      "source": [
        "def nlu(text, tokenizer, model, intent_names, slot_names):\n",
        "    inputs = tf.constant(tokenizer.encode(text))[None, :]  # batch_size = 1\n",
        "    outputs = model(inputs)\n",
        "    slot_logits, intent_logits = outputs\n",
        "\n",
        "    slot_ids = slot_logits.numpy().argmax(axis=-1)[0, :]\n",
        "    intent_id = intent_logits.numpy().argmax(axis=-1)[0]\n",
        "\n",
        "    info = {\"intent\": intent_names[intent_id], \"slots\": {}}\n",
        "\n",
        "    out_dict = {}\n",
        "    # get all slot names and add to out_dict as keys\n",
        "    predicted_slots = set([slot_names[s] for s in slot_ids if s != 0])\n",
        "    for ps in predicted_slots:\n",
        "      out_dict[ps] = []\n",
        "\n",
        "    tokens = tokenizer.tokenize(text, add_special_tokens=True)\n",
        "\n",
        "    # check if the text starts with a small letter\n",
        "    # if text[0].islower():\n",
        "    #   tokens = tokenizer.tokenize(text, add_special_tokens=True)\n",
        "    # else:\n",
        "    #   tokens = tokenizer.tokenize(text)\n",
        "    for token, slot_id in zip(tokens, slot_ids):\n",
        "        # add all to out_dict\n",
        "        slot_name = slot_names[slot_id]\n",
        "\n",
        "        if slot_name == \"<PAD>\":\n",
        "            continue\n",
        "\n",
        "        # collect tokens\n",
        "        collected_tokens = [token]\n",
        "        idx = tokens.index(token)\n",
        "\n",
        "        # see if it starts with ##\n",
        "        # then it belongs to the previous token\n",
        "        if token.startswith(\"##\"):\n",
        "          # check if the token already exists or not\n",
        "          if tokens[idx - 1] not in out_dict[slot_name]:\n",
        "            collected_tokens.insert(0, tokens[idx - 1])\n",
        "\n",
        "        # add collected tokens to slots\n",
        "        out_dict[slot_name].extend(collected_tokens)\n",
        "\n",
        "    # process out_dict\n",
        "    for slot_name in out_dict:\n",
        "        tokens = out_dict[slot_name]\n",
        "        slot_value = tokenizer.convert_tokens_to_string(tokens)\n",
        "\n",
        "        info[\"slots\"][slot_name] = slot_value.strip()\n",
        "\n",
        "    return info\n"
      ]
    },
    {
      "cell_type": "code",
      "execution_count": 57,
      "metadata": {
        "colab": {
          "base_uri": "https://localhost:8080/"
        },
        "id": "u9foYt0otvc5",
        "outputId": "7619a165-2524-4539-d27a-d0a60154cee7"
      },
      "outputs": [
        {
          "output_type": "execute_result",
          "data": {
            "text/plain": [
              "{'intent': 'capture_app_name', 'slots': {'app_name': 'Nodejs - Todo - App'}}"
            ]
          },
          "metadata": {},
          "execution_count": 57
        }
      ],
      "source": [
        "# def nlu(text, tokenizer, model, intent_names, slot_names):\n",
        "\n",
        "nlu(\"i want to deploy Nodejs-Todo-App 😀\", tokenizer, joint_model, intent_names, slot_names)"
      ]
    },
    {
      "cell_type": "code",
      "execution_count": 58,
      "metadata": {
        "colab": {
          "base_uri": "https://localhost:8080/"
        },
        "id": "lxs0caDQIb90",
        "outputId": "e07a0693-e0ea-4b30-a5e4-4e41ab346178"
      },
      "outputs": [
        {
          "output_type": "execute_result",
          "data": {
            "text/plain": [
              "{'intent': 'capture_env_variables',\n",
              " 'slots': {'env_variables': 'USER = db _ user1, OTHER = gfh! 23gf'}}"
            ]
          },
          "metadata": {},
          "execution_count": 58
        }
      ],
      "source": [
        "nlu(\"environment variables are USER=db_user1, OTHER=gfh!23gf\", tokenizer, joint_model, intent_names, slot_names)"
      ]
    },
    {
      "cell_type": "code",
      "execution_count": 59,
      "metadata": {
        "colab": {
          "base_uri": "https://localhost:8080/"
        },
        "id": "-mJNVmdYjRte",
        "outputId": "70cbcf5a-b374-4796-ac25-9688951a226e"
      },
      "outputs": [
        {
          "output_type": "execute_result",
          "data": {
            "text/plain": [
              "{'intent': 'capture_framework_name', 'slots': {'framework_name': 'Djan'}}"
            ]
          },
          "metadata": {},
          "execution_count": 59
        }
      ],
      "source": [
        "nlu(\"using Django framework\", tokenizer, joint_model, intent_names, slot_names)"
      ]
    },
    {
      "cell_type": "code",
      "execution_count": null,
      "metadata": {
        "id": "FySlvyIEQNyP"
      },
      "outputs": [],
      "source": [
        "# inputs = tf.constant(tokenizer.encode(\"I want to deploy micro-to-do-list\"))[None, :]\n",
        "# slot_logits, intent_logits = joint_model(inputs)\n",
        "# print(slot_logits)\n",
        "\n",
        "# print( intent_logits)"
      ]
    },
    {
      "cell_type": "markdown",
      "metadata": {
        "id": "tyYkZO079Vkz"
      },
      "source": [
        "# Save Model"
      ]
    },
    {
      "cell_type": "code",
      "execution_count": 60,
      "metadata": {
        "id": "GM--XfTtwCZQ"
      },
      "outputs": [],
      "source": [
        "# Include the epoch in the file name (uses `str.format`)\n",
        "checkpoint_path = \"saved_model/cp-{epoch:04d}.ckpt\"\n",
        "checkpoint_dir = os.path.dirname(checkpoint_path)\n",
        "\n",
        "# Save the weights using the `checkpoint_path` format\n",
        "joint_model.save_weights(checkpoint_path.format(epoch=0))\n",
        "\n",
        "#joint_model.save_weights('path_to_my_weights',save_format='tf')"
      ]
    },
    {
      "cell_type": "code",
      "execution_count": 61,
      "metadata": {
        "colab": {
          "base_uri": "https://localhost:8080/"
        },
        "id": "qAFyaHCV58Ur",
        "outputId": "69e8a3e4-3d35-4687-df7c-4631f483823d"
      },
      "outputs": [
        {
          "output_type": "execute_result",
          "data": {
            "text/plain": [
              "['cp-0000.ckpt.data-00000-of-00001', 'cp-0000.ckpt.index', 'checkpoint']"
            ]
          },
          "metadata": {},
          "execution_count": 61
        }
      ],
      "source": [
        "os.listdir(checkpoint_dir)"
      ]
    },
    {
      "cell_type": "code",
      "execution_count": 62,
      "metadata": {
        "colab": {
          "base_uri": "https://localhost:8080/",
          "height": 35
        },
        "id": "wA8ml-8i6Jx4",
        "outputId": "6dec7d22-d0a0-4420-c494-482f2268f08b"
      },
      "outputs": [
        {
          "output_type": "execute_result",
          "data": {
            "application/vnd.google.colaboratory.intrinsic+json": {
              "type": "string"
            },
            "text/plain": [
              "'saved_model/cp-0000.ckpt'"
            ]
          },
          "metadata": {},
          "execution_count": 62
        }
      ],
      "source": [
        "latest = tf.train.latest_checkpoint(checkpoint_dir)\n",
        "latest"
      ]
    },
    {
      "cell_type": "code",
      "execution_count": null,
      "metadata": {
        "id": "iNXhZgg0vU0B"
      },
      "outputs": [],
      "source": [
        "# Recreate the exact same model purely from the file\n",
        "from tensorflow import keras\n",
        "loaded_model = JointIntentAndSlotFillingModel(\n",
        "    intent_num_labels=len(intent_map), slot_num_labels=len(slot_map))\n",
        "loaded_model.load_weights(latest)"
      ]
    },
    {
      "cell_type": "code",
      "execution_count": null,
      "metadata": {
        "id": "s1CVIgwnw0mK"
      },
      "outputs": [],
      "source": [
        "nlu(\"please deploy NodeJS-Visual-Tool\", tokenizer, loaded_model, \n",
        "    intent_names, slot_names)"
      ]
    },
    {
      "cell_type": "code",
      "execution_count": null,
      "metadata": {
        "id": "Nj9mcLfXJFwH"
      },
      "outputs": [],
      "source": [
        "nlu(\"I want to deploy active-service using build,test,deploy stages\", tokenizer, loaded_model, intent_names, slot_names)"
      ]
    },
    {
      "cell_type": "markdown",
      "metadata": {
        "id": "LVR3ZKAMKfla"
      },
      "source": [
        "# Test Things"
      ]
    },
    {
      "cell_type": "code",
      "execution_count": null,
      "metadata": {
        "id": "ShBmHcQfKjkL"
      },
      "outputs": [],
      "source": [
        "def nlu_test(text, tokenizer, model, intent_names, slot_names):\n",
        "    en = tf.constant(tokenizer.encode(text))\n",
        "    # print(en)\n",
        "    inputs = tf.constant(tokenizer.encode(text))[None, :]\n",
        "    # print(inputs)\n",
        "    # print(tokenizer.decode(en))\n",
        "    # inputs = tf.constant(tokenizer.encode(text))[None, :] \n",
        "    outputs = model(inputs)\n",
        "    print(outputs)\n",
        "    slot_logits, intent_logits = outputs\n",
        "\n",
        "nlu_test(\"please deploy visual-tool\", tokenizer, loaded_model, intent_names, slot_names)"
      ]
    },
    {
      "cell_type": "code",
      "execution_count": null,
      "metadata": {
        "id": "WfcGLZGpr0tb"
      },
      "outputs": [],
      "source": [
        "# download model\n",
        "!zip -r model.zip ./saved_model"
      ]
    },
    {
      "cell_type": "code",
      "execution_count": null,
      "metadata": {
        "id": "bgxP_iMGuDmA"
      },
      "outputs": [],
      "source": [
        "!ls -lah"
      ]
    },
    {
      "cell_type": "code",
      "execution_count": null,
      "metadata": {
        "id": "5WvzzNgrsG6K"
      },
      "outputs": [],
      "source": [
        "# from google.colab import files\n",
        "# files.download(\"./model.zip\")"
      ]
    },
    {
      "cell_type": "markdown",
      "source": [
        "### Evaluate"
      ],
      "metadata": {
        "id": "8k7KbVqRhJdw"
      }
    },
    {
      "cell_type": "code",
      "source": [
        "from sklearn.metrics import ConfusionMatrixDisplay\n",
        "from sklearn.metrics import confusion_matrix\n",
        "import matplotlib.pyplot as plt"
      ],
      "metadata": {
        "id": "CTXDwNrdin08"
      },
      "execution_count": 63,
      "outputs": []
    },
    {
      "cell_type": "code",
      "source": [
        "x_test = {\"input_ids\": test_encoded_texts[\"input_ids\"], \"token_type_ids\": test_encoded_texts[\"token_type_ids\"],  \"attention_mask\": test_encoded_texts[\"attention_mask\"]}\n",
        "\n",
        "test_intents= []\n",
        "output_intent = []\n",
        "for item in test_data:\n",
        "  test_intents.append(item.intent)\n",
        "  result = nlu(item.text, tokenizer, joint_model, intent_names, slot_names)\n",
        "  output_intent.append(result[\"intent\"])\n",
        "\n",
        "output_intent[0]\n"
      ],
      "metadata": {
        "colab": {
          "base_uri": "https://localhost:8080/",
          "height": 35
        },
        "id": "LzXDm0XthMNU",
        "outputId": "579d6829-2606-4c66-fbc0-983515544c76"
      },
      "execution_count": 72,
      "outputs": [
        {
          "output_type": "execute_result",
          "data": {
            "application/vnd.google.colaboratory.intrinsic+json": {
              "type": "string"
            },
            "text/plain": [
              "'capture_instance_type'"
            ]
          },
          "metadata": {},
          "execution_count": 72
        }
      ]
    },
    {
      "cell_type": "code",
      "source": [
        "cm = confusion_matrix(test_intents, output_intent)\n",
        "\n",
        "disp = ConfusionMatrixDisplay(confusion_matrix=cm, display_labels=intent_names)\n",
        "\n",
        "disp.plot(cmap=plt.cm.Blues)\n",
        "plt.show()"
      ],
      "metadata": {
        "colab": {
          "base_uri": "https://localhost:8080/",
          "height": 284
        },
        "id": "EH02cRbsi8FV",
        "outputId": "25e9b552-a4c0-4396-dc36-f5a15a4f8034"
      },
      "execution_count": 73,
      "outputs": [
        {
          "output_type": "display_data",
          "data": {
            "image/png": "[encoded data removed]",
            "text/plain": [
              "<Figure size 432x288 with 2 Axes>"
            ]
          },
          "metadata": {
            "needs_background": "light"
          }
        }
      ]
    },
    {
      "cell_type": "code",
      "source": [
        "from sklearn.metrics import f1_score\n",
        "from sklearn.metrics import precision_recall_fscore_support\n",
        "f1_score(test_intents, output_intent, average='weighted')\n",
        "precision_recall_fscore_support(test_intents, output_intent, average='weighted')"
      ],
      "metadata": {
        "colab": {
          "base_uri": "https://localhost:8080/"
        },
        "id": "24iDi0Q4q_u4",
        "outputId": "88657dcc-e736-41ac-eb49-5632495b586f"
      },
      "execution_count": 94,
      "outputs": [
        {
          "output_type": "execute_result",
          "data": {
            "text/plain": [
              "(0.9833333333333333, 0.9666666666666667, 0.9666666666666667, None)"
            ]
          },
          "metadata": {},
          "execution_count": 94
        }
      ]
    },
    {
      "cell_type": "code",
      "source": [
        "test_slots= []\n",
        "output_slots = []\n",
        "for item in test_data:\n",
        "  # print(list(item.slots.keys())[0])\n",
        "  test_slots.append(item.slots.get(list(item.slots.keys())[0]))\n",
        "  result = nlu(item.text, tokenizer, joint_model, intent_names, slot_names)\n",
        "  if result[\"slots\"]:\n",
        "    output_slots.append(result[\"slots\"].get(list(result[\"slots\"].keys())[0]))\n",
        "  else:\n",
        "    output_slots.append(\"\")\n",
        "  print(result[\"slots\"])\n",
        "# test_slots\n",
        "# output_slots"
      ],
      "metadata": {
        "colab": {
          "base_uri": "https://localhost:8080/"
        },
        "id": "FoJyZW4TlUF0",
        "outputId": "98c52e45-4346-4c3d-df2e-4e8b9faf0698"
      },
      "execution_count": 95,
      "outputs": [
        {
          "output_type": "execute_result",
          "data": {
            "text/plain": [
              "[]"
            ]
          },
          "metadata": {},
          "execution_count": 95
        }
      ]
    },
    {
      "cell_type": "code",
      "source": [
        "test_slots= []\n",
        "output_slots = []\n",
        "for item in test_data:\n",
        "  # print(list(item.slots.keys())[0])\n",
        "  test_slots.append(list(item.slots.keys())[0])\n",
        "  result = nlu(item.text, tokenizer, joint_model, intent_names, slot_names)\n",
        "  if result[\"slots\"]:\n",
        "    output_slots.append(list(result[\"slots\"].keys())[0])\n",
        "  else:\n",
        "    output_slots.append(\"\")\n",
        "test_slots"
      ],
      "metadata": {
        "colab": {
          "base_uri": "https://localhost:8080/"
        },
        "id": "3FsNCk0bsmwO",
        "outputId": "0f570205-b9c4-4d18-b57e-661b3d6f8426"
      },
      "execution_count": 100,
      "outputs": [
        {
          "output_type": "execute_result",
          "data": {
            "text/plain": [
              "['instance_type',\n",
              " 'instance_type',\n",
              " 'keypair',\n",
              " 'names_of_stages',\n",
              " 'framework_name',\n",
              " 'cloud_provider',\n",
              " 'keypair',\n",
              " 'names_of_stages',\n",
              " 'env_variables',\n",
              " 'only_condition',\n",
              " 'names_of_stages',\n",
              " 'instance_type',\n",
              " 'region',\n",
              " 'region',\n",
              " 'instance_os',\n",
              " 'names_of_stages',\n",
              " 'cloud_provider',\n",
              " 'region',\n",
              " 'instance_os',\n",
              " 'instance_os',\n",
              " 'cloud_provider',\n",
              " 'env_variables',\n",
              " 'cloud_provider',\n",
              " 'instance_type',\n",
              " 'framework_name',\n",
              " 'cloud_provider',\n",
              " 'env_variables',\n",
              " 'app_name',\n",
              " 'only_condition',\n",
              " 'instance_type']"
            ]
          },
          "metadata": {},
          "execution_count": 100
        }
      ]
    },
    {
      "cell_type": "code",
      "source": [
        "cm_slots = confusion_matrix(test_slots, output_slots)\n",
        "\n",
        "disp_slots = ConfusionMatrixDisplay(confusion_matrix=cm_slots, display_labels=slot_names)\n",
        "\n",
        "disp_slots.plot(cmap=plt.cm.Blues)\n",
        "plt.show()"
      ],
      "metadata": {
        "colab": {
          "base_uri": "https://localhost:8080/",
          "height": 284
        },
        "id": "ro1QoQDYmVB-",
        "outputId": "363dcf87-1c01-488b-bc8d-2688a86a43ee"
      },
      "execution_count": 101,
      "outputs": [
        {
          "output_type": "display_data",
          "data": {
            "image/png": "[encoded data removed]",
            "text/plain": [
              "<Figure size 432x288 with 2 Axes>"
            ]
          },
          "metadata": {
            "needs_background": "light"
          }
        }
      ]
    }
  ],
  "metadata": {
    "colab": {
      "collapsed_sections": [
        "87SWqlOT4H3y"
      ],
      "name": "Copy of Slot_Intent_Model_Building.ipynb",
      "provenance": []
    },
    "kernelspec": {
      "display_name": "Python 3",
      "name": "python3"
    },
    "language_info": {
      "name": "python"
    }
  },
  "nbformat": 4,
  "nbformat_minor": 0
}